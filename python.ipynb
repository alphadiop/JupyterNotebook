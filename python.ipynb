{
 "cells": [
  {
   "cell_type": "code",
   "execution_count": 5,
   "metadata": {},
   "outputs": [],
   "source": [
    "import math as mt"
   ]
  },
  {
   "cell_type": "code",
   "execution_count": 6,
   "metadata": {},
   "outputs": [
    {
     "name": "stdout",
     "output_type": "stream",
     "text": [
      "rayon :3\n",
      "hauteur :7\n",
      "volume  197.92033717615698 m\n"
     ]
    }
   ],
   "source": [
    "rayon = float(input(\"rayon :\"))\n",
    "hauteur = float(input(\"hauteur :\"))\n",
    "volume = mt.pi*hauteur*rayon**2\n",
    "print(\"volume \",volume,\"m3\")"
   ]
  },
  {
   "cell_type": "code",
   "execution_count": 16,
   "metadata": {},
   "outputs": [
    {
     "name": "stdout",
     "output_type": "stream",
     "text": [
      "Prix HT (0 pour terminer) ?33\n",
      "39.467999999999996\n",
      "Prix HT (0 pour terminer) ? 44\n",
      "52.623999999999995\n",
      "Prix HT (0 pour terminer) ? 0\n",
      "Au revoir !\n"
     ]
    }
   ],
   "source": [
    "prixHT = float(input(\"Prix HT (0 pour terminer) ?\"))\n",
    "while prixHT > 0:\n",
    "    print(prixHT * 1.196)\n",
    "    prixHT = float(input(\"Prix HT (0 pour terminer) ? \"))\n",
    "print(\"Au revoir !\")"
   ]
  },
  {
   "cell_type": "code",
   "execution_count": 6,
   "metadata": {},
   "outputs": [
    {
     "name": "stdout",
     "output_type": "stream",
     "text": [
      "0 pour terminer : 3\n",
      "0 pour terminer : 3\n",
      "0 pour terminer : 3\n",
      "0 pour terminer : 0\n",
      "Au somme : 9.0\n",
      "compteur : 3\n",
      "compteur_100 : 0\n"
     ]
    }
   ],
   "source": [
    "somme = 0\n",
    "compteur = 0\n",
    "compteur_100 = 0\n",
    "x = float(input(\"0 pour terminer : \"))\n",
    "while x > 0:\n",
    "    somme = x + somme\n",
    "    compteur = compteur + 1\n",
    "    x = float(input(\"0 pour terminer : \"))\n",
    "    if x > 100:\n",
    "        compteur_100 = compteur_100 + 1\n",
    "\n",
    "print(\"Au somme :\",somme)\n",
    "print(\"compteur :\",compteur)\n",
    "print(\"compteur_100 :\",compteur_100)"
   ]
  },
  {
   "cell_type": "code",
   "execution_count": 31,
   "metadata": {},
   "outputs": [],
   "source": [
    "def irspair(n):\n",
    "    if n%2==0:print(\"Pair\",n)\n",
    "    else:print(\"ImPair\",n)"
   ]
  },
  {
   "cell_type": "raw",
   "metadata": {},
   "source": [
    "irspair(9)"
   ]
  },
  {
   "cell_type": "code",
   "execution_count": 25,
   "metadata": {},
   "outputs": [],
   "source": [
    "def compte(n):\n",
    "    compteur = 0\n",
    "    while n%2==0:\n",
    "        n=n/2\n",
    "        compteur=compteur+1\n",
    "    return compteur"
   ]
  },
  {
   "cell_type": "code",
   "execution_count": 27,
   "metadata": {},
   "outputs": [
    {
     "data": {
      "text/plain": [
       "1"
      ]
     },
     "execution_count": 27,
     "metadata": {},
     "output_type": "execute_result"
    }
   ],
   "source": [
    "compte(18)"
   ]
  },
  {
   "cell_type": "code",
   "execution_count": 36,
   "metadata": {},
   "outputs": [],
   "source": [
    "##[a for a in range(2,12)]\n",
    "def diviseur(n):\n",
    "    div = []\n",
    "    for i in range(2,n):\n",
    "        if n%i==0:\n",
    "            div.append(i)\n",
    "    if len(div)==0:\n",
    "        print(n,\" est pair\")\n",
    "    else:print(div)\n",
    "        "
   ]
  },
  {
   "cell_type": "code",
   "execution_count": 40,
   "metadata": {},
   "outputs": [
    {
     "name": "stdout",
     "output_type": "stream",
     "text": [
      "[2, 4, 5, 10, 20, 25, 50]\n"
     ]
    }
   ],
   "source": [
    "diviseur(100)"
   ]
  },
  {
   "cell_type": "code",
   "execution_count": 43,
   "metadata": {},
   "outputs": [],
   "source": [
    "def fact(n):\n",
    "    if n < 2:return 1\n",
    "    else : return n*fact(n-1)"
   ]
  },
  {
   "cell_type": "code",
   "execution_count": 49,
   "metadata": {},
   "outputs": [],
   "source": [
    "def appr(n):\n",
    "    somme=0\n",
    "    for i in range(0,n):\n",
    "        somme = somme + 1/fact(i)\n",
    "    return somme"
   ]
  },
  {
   "cell_type": "code",
   "execution_count": 54,
   "metadata": {},
   "outputs": [
    {
     "data": {
      "text/plain": [
       "2.7182818284590455"
      ]
     },
     "execution_count": 54,
     "metadata": {},
     "output_type": "execute_result"
    }
   ],
   "source": [
    "appr(800)"
   ]
  },
  {
   "cell_type": "code",
   "execution_count": 55,
   "metadata": {},
   "outputs": [],
   "source": [
    "def amende(nombre_victime):\n",
    "    somme_du=0\n",
    "    return somme_du"
   ]
  },
  {
   "cell_type": "code",
   "execution_count": 56,
   "metadata": {},
   "outputs": [
    {
     "data": {
      "text/plain": [
       "0"
      ]
     },
     "execution_count": 56,
     "metadata": {},
     "output_type": "execute_result"
    }
   ],
   "source": [
    "amende(3)"
   ]
  },
  {
   "cell_type": "code",
   "execution_count": 58,
   "metadata": {},
   "outputs": [
    {
     "data": {
      "text/plain": [
       "[False, False, False, False, False, False, False, True, True]"
      ]
     },
     "execution_count": 58,
     "metadata": {},
     "output_type": "execute_result"
    }
   ],
   "source": [
    "[a > 7 for a in list(range(1,10))]"
   ]
  },
  {
   "cell_type": "code",
   "execution_count": null,
   "metadata": {},
   "outputs": [],
   "source": []
  }
 ],
 "metadata": {
  "kernelspec": {
   "display_name": "Python 3",
   "language": "python",
   "name": "python3"
  },
  "language_info": {
   "codemirror_mode": {
    "name": "ipython",
    "version": 3
   },
   "file_extension": ".py",
   "mimetype": "text/x-python",
   "name": "python",
   "nbconvert_exporter": "python",
   "pygments_lexer": "ipython3",
   "version": "3.6.5"
  }
 },
 "nbformat": 4,
 "nbformat_minor": 2
}
